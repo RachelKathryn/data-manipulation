{
 "cells": [
  {
   "cell_type": "markdown",
   "id": "1894ccac",
   "metadata": {},
   "source": [
    "# Data Manipulation Studio\n",
    "\n",
    "For this studio, we will revisit our California farmers looking for advice on growing pumpkins and the same [pumpkins dataset](https://www.kaggle.com/usda/a-year-of-pumpkin-prices) as provided by the U.S. Department of Agriculture. You may have to clean data in the process of data manipulation, so feel free to pull up your notebook from the last class's studio.\n",
    "\n",
    "We will now be focusing our attention on a different region in the United States, the Northeast. When you open up the `dataset` folder, you will have 13 CSVs, including the San Francisco and Los Angeles data from the last lesson. The 13 CSVs are each a different terminal market in the United States.\n",
    "\n",
    "## Getting Started\n",
    "\n",
    "Import the CSVs for each of the following cities: Baltimore, Boston, New York, and Philadelphia. Set up a dataframe for each city."
   ]
  },
  {
   "cell_type": "code",
   "execution_count": 1,
   "id": "66c9a7e7",
   "metadata": {},
   "outputs": [],
   "source": [
    "# Import the necessary libraries and CSVs. Make some dataframes!\n",
    "\n",
    "import pandas as pd\n",
    "import matplotlib \n",
    "import matplotlib.pyplot as plt\n",
    "import numpy as np\n",
    "\n",
    "data_Balt = pd.read_csv(\"dataset/baltimore_9-24-2016_9-30-2017.csv\")\n",
    "data_Bost = pd.read_csv(\"dataset/boston_9-24-2016_9-30-2017.csv\")\n",
    "data_NY = pd.read_csv(\"dataset/new-york_9-24-2016_9-30-2017.csv\")\n",
    "data_Phil = pd.read_csv(\"dataset/philadelphia_9-24-2016_9-30-2017.csv\")"
   ]
  },
  {
   "cell_type": "markdown",
   "id": "6cfda42f",
   "metadata": {},
   "source": [
    "## Clean Your Data\n",
    "\n",
    "In the last lesson, we cleaned the data to related to San Francisco. Pull up your notebook from the last lesson and use your cleaning skills to clean the dataframes as necessary."
   ]
  },
  {
   "cell_type": "code",
   "execution_count": 2,
   "id": "98abc290",
   "metadata": {},
   "outputs": [
    {
     "name": "stdout",
     "output_type": "stream",
     "text": [
      "Commodity Name - 0.0%\n",
      "City Name - 0.0%\n",
      "Type - 100.0%\n",
      "Package - 0.0%\n",
      "Variety - 1.3071895424836601%\n",
      "Sub Variety - 83.66013071895425%\n",
      "Grade - 100.0%\n",
      "Date - 0.0%\n",
      "Low Price - 0.0%\n",
      "High Price - 0.0%\n",
      "Mostly Low - 0.0%\n",
      "Mostly High - 0.0%\n",
      "Origin - 3.2679738562091507%\n",
      "Origin District - 100.0%\n",
      "Item Size - 16.33986928104575%\n",
      "Color - 79.73856209150327%\n",
      "Environment - 100.0%\n",
      "Unit of Sale - 84.31372549019608%\n",
      "Quality - 100.0%\n",
      "Condition - 100.0%\n",
      "Appearance - 100.0%\n",
      "Storage - 100.0%\n",
      "Crop - 100.0%\n",
      "Repack - 0.0%\n",
      "Trans Mode - 100.0%\n"
     ]
    }
   ],
   "source": [
    "# Clean your data here!\n",
    "\n",
    "for col in data_Balt.columns:\n",
    "    pct_missing_Balt = np.mean(data_Balt[col].isnull())\n",
    "    print('{} - {}%'.format(col, (pct_missing_Balt*100)))"
   ]
  },
  {
   "cell_type": "code",
   "execution_count": 3,
   "id": "21c4a81d",
   "metadata": {},
   "outputs": [
    {
     "data": {
      "text/plain": [
       "Index(['Commodity Name', 'City Name', 'Package', 'Variety', 'Date',\n",
       "       'Low Price', 'High Price', 'Mostly Low', 'Mostly High', 'Origin',\n",
       "       'Repack'],\n",
       "      dtype='object')"
      ]
     },
     "execution_count": 3,
     "metadata": {},
     "output_type": "execute_result"
    }
   ],
   "source": [
    "data_Balt = data_Balt.drop(['Type', 'Sub Variety', 'Grade', 'Origin District', 'Item Size', 'Color', 'Environment', 'Unit of Sale', 'Quality', 'Condition', 'Appearance', 'Storage', 'Crop', 'Trans Mode'], axis=1) \n",
    "\n",
    "data_Balt.columns"
   ]
  },
  {
   "cell_type": "code",
   "execution_count": 4,
   "id": "86a68619",
   "metadata": {},
   "outputs": [
    {
     "name": "stdout",
     "output_type": "stream",
     "text": [
      "Commodity Name - 0.0%\n",
      "City Name - 0.0%\n",
      "Type - 100.0%\n",
      "Package - 0.0%\n",
      "Variety - 0.0%\n",
      "Sub Variety - 92.04545454545455%\n",
      "Grade - 100.0%\n",
      "Date - 0.0%\n",
      "Low Price - 0.0%\n",
      "High Price - 0.0%\n",
      "Mostly Low - 0.0%\n",
      "Mostly High - 0.0%\n",
      "Origin - 0.0%\n",
      "Origin District - 81.25%\n",
      "Item Size - 1.1363636363636365%\n",
      "Color - 13.636363636363635%\n",
      "Environment - 100.0%\n",
      "Unit of Sale - 86.93181818181817%\n",
      "Quality - 100.0%\n",
      "Condition - 100.0%\n",
      "Appearance - 100.0%\n",
      "Storage - 100.0%\n",
      "Crop - 100.0%\n",
      "Repack - 0.0%\n",
      "Trans Mode - 100.0%\n"
     ]
    }
   ],
   "source": [
    "# Clean your data here!\n",
    "\n",
    "for col in data_Bost.columns:\n",
    "    pct_missing_Bost = np.mean(data_Bost[col].isnull())\n",
    "    print('{} - {}%'.format(col, (pct_missing_Bost*100)))"
   ]
  },
  {
   "cell_type": "code",
   "execution_count": 5,
   "id": "f5f3978f",
   "metadata": {},
   "outputs": [
    {
     "data": {
      "text/plain": [
       "Index(['Commodity Name', 'City Name', 'Package', 'Variety', 'Date',\n",
       "       'Low Price', 'High Price', 'Mostly Low', 'Mostly High', 'Origin',\n",
       "       'Item Size', 'Repack'],\n",
       "      dtype='object')"
      ]
     },
     "execution_count": 5,
     "metadata": {},
     "output_type": "execute_result"
    }
   ],
   "source": [
    "data_Bost = data_Bost.drop(['Type', 'Sub Variety', 'Grade', 'Origin District', 'Color', 'Environment', 'Unit of Sale', 'Quality', 'Condition', 'Appearance', 'Storage', 'Crop', 'Trans Mode'], axis=1) \n",
    "\n",
    "data_Bost.columns"
   ]
  },
  {
   "cell_type": "code",
   "execution_count": 6,
   "id": "a2bbf6ee",
   "metadata": {},
   "outputs": [
    {
     "name": "stdout",
     "output_type": "stream",
     "text": [
      "Commodity Name - 0.0%\n",
      "City Name - 0.0%\n",
      "Type - 100.0%\n",
      "Package - 0.0%\n",
      "Variety - 0.0%\n",
      "Sub Variety - 83.92857142857143%\n",
      "Grade - 100.0%\n",
      "Date - 0.0%\n",
      "Low Price - 0.0%\n",
      "High Price - 0.0%\n",
      "Mostly Low - 0.0%\n",
      "Mostly High - 0.0%\n",
      "Origin - 0.0%\n",
      "Origin District - 86.60714285714286%\n",
      "Item Size - 7.142857142857142%\n",
      "Color - 81.25%\n",
      "Environment - 100.0%\n",
      "Unit of Sale - 77.67857142857143%\n",
      "Quality - 100.0%\n",
      "Condition - 100.0%\n",
      "Appearance - 100.0%\n",
      "Storage - 100.0%\n",
      "Crop - 100.0%\n",
      "Repack - 0.0%\n",
      "Trans Mode - 100.0%\n"
     ]
    }
   ],
   "source": [
    "# Clean your data here!\n",
    "\n",
    "for col in data_NY.columns:\n",
    "    pct_missing_NY = np.mean(data_NY[col].isnull())\n",
    "    print('{} - {}%'.format(col, (pct_missing_NY*100)))"
   ]
  },
  {
   "cell_type": "code",
   "execution_count": 7,
   "id": "c574778b",
   "metadata": {},
   "outputs": [
    {
     "data": {
      "text/plain": [
       "Index(['Commodity Name', 'City Name', 'Package', 'Variety', 'Date',\n",
       "       'Low Price', 'High Price', 'Mostly Low', 'Mostly High', 'Origin',\n",
       "       'Item Size', 'Repack'],\n",
       "      dtype='object')"
      ]
     },
     "execution_count": 7,
     "metadata": {},
     "output_type": "execute_result"
    }
   ],
   "source": [
    "data_NY = data_NY.drop(['Type', 'Sub Variety', 'Grade', 'Origin District', 'Color', 'Environment', 'Unit of Sale', 'Quality', 'Condition', 'Appearance', 'Storage', 'Crop', 'Trans Mode'], axis=1) \n",
    "\n",
    "data_NY.columns"
   ]
  },
  {
   "cell_type": "code",
   "execution_count": 8,
   "id": "52a73422",
   "metadata": {},
   "outputs": [
    {
     "name": "stdout",
     "output_type": "stream",
     "text": [
      "Commodity Name - 0.0%\n",
      "City Name - 0.0%\n",
      "Type - 100.0%\n",
      "Package - 0.0%\n",
      "Variety - 0.0%\n",
      "Sub Variety - 78.94736842105263%\n",
      "Grade - 100.0%\n",
      "Date - 0.0%\n",
      "Low Price - 0.0%\n",
      "High Price - 0.0%\n",
      "Mostly Low - 0.0%\n",
      "Mostly High - 0.0%\n",
      "Origin - 0.0%\n",
      "Origin District - 100.0%\n",
      "Item Size - 21.052631578947366%\n",
      "Color - 100.0%\n",
      "Environment - 100.0%\n",
      "Unit of Sale - 80.7017543859649%\n",
      "Quality - 100.0%\n",
      "Condition - 100.0%\n",
      "Appearance - 100.0%\n",
      "Storage - 100.0%\n",
      "Crop - 100.0%\n",
      "Repack - 0.0%\n",
      "Trans Mode - 100.0%\n"
     ]
    }
   ],
   "source": [
    "# Clean your data here!\n",
    "\n",
    "for col in data_Phil.columns:\n",
    "    pct_missing_Phil = np.mean(data_Phil[col].isnull())\n",
    "    print('{} - {}%'.format(col, (pct_missing_Phil*100)))"
   ]
  },
  {
   "cell_type": "code",
   "execution_count": 9,
   "id": "04dda0ea",
   "metadata": {},
   "outputs": [
    {
     "data": {
      "text/plain": [
       "Index(['Commodity Name', 'City Name', 'Package', 'Variety', 'Date',\n",
       "       'Low Price', 'High Price', 'Mostly Low', 'Mostly High', 'Origin',\n",
       "       'Repack'],\n",
       "      dtype='object')"
      ]
     },
     "execution_count": 9,
     "metadata": {},
     "output_type": "execute_result"
    }
   ],
   "source": [
    "data_Phil = data_Phil.drop(['Type', 'Sub Variety', 'Grade', 'Origin District', 'Item Size', 'Color', 'Environment', 'Unit of Sale', 'Quality', 'Condition', 'Appearance', 'Storage', 'Crop', 'Trans Mode'], axis=1) \n",
    "\n",
    "data_Phil.columns"
   ]
  },
  {
   "cell_type": "code",
   "execution_count": 11,
   "id": "2edfb9b7",
   "metadata": {},
   "outputs": [
    {
     "data": {
      "text/plain": [
       "(153, 11)"
      ]
     },
     "execution_count": 11,
     "metadata": {},
     "output_type": "execute_result"
    }
   ],
   "source": [
    "data_Balt.shape"
   ]
  },
  {
   "cell_type": "code",
   "execution_count": 12,
   "id": "260d8fb2",
   "metadata": {},
   "outputs": [
    {
     "data": {
      "text/plain": [
       "(352, 12)"
      ]
     },
     "execution_count": 12,
     "metadata": {},
     "output_type": "execute_result"
    }
   ],
   "source": [
    "data_Bost.shape"
   ]
  },
  {
   "cell_type": "code",
   "execution_count": null,
   "id": "ac33a8b3",
   "metadata": {},
   "outputs": [],
   "source": [
    "Commodity Name', 'City Name', 'Package', 'Variety', 'Date',\n",
    "       'Low Price', 'High Price', 'Mostly Low', 'Mostly High', 'Origin',\n",
    "       'Item Size', 'Repack'],\n",
    "      dtype='object')\n",
    "Bost\n",
    "Commodity Name', 'City Name', 'Package', 'Variety', 'Date',\n",
    "       'Low Price', 'High Price', 'Mostly Low', 'Mostly High', 'Origin',\n",
    "       'Item Size', 'Repack'],"
   ]
  },
  {
   "cell_type": "code",
   "execution_count": 15,
   "id": "632ea915",
   "metadata": {},
   "outputs": [
    {
     "data": {
      "text/plain": [
       "(352, 11)"
      ]
     },
     "execution_count": 15,
     "metadata": {},
     "output_type": "execute_result"
    }
   ],
   "source": [
    "data_Bost = data_Bost.drop(['Item Size'], axis = 1)\n",
    "data_Bost.shape"
   ]
  },
  {
   "cell_type": "code",
   "execution_count": 16,
   "id": "3b290e59",
   "metadata": {},
   "outputs": [
    {
     "data": {
      "text/plain": [
       "(112, 11)"
      ]
     },
     "execution_count": 16,
     "metadata": {},
     "output_type": "execute_result"
    }
   ],
   "source": [
    "data_NY = data_NY.drop(['Item Size'], axis = 1)\n",
    "data_NY.shape"
   ]
  },
  {
   "cell_type": "code",
   "execution_count": 13,
   "id": "5d7f8a0d",
   "metadata": {},
   "outputs": [
    {
     "data": {
      "text/plain": [
       "(112, 12)"
      ]
     },
     "execution_count": 13,
     "metadata": {},
     "output_type": "execute_result"
    }
   ],
   "source": [
    "data_NY.shape"
   ]
  },
  {
   "cell_type": "code",
   "execution_count": 14,
   "id": "3fc55db0",
   "metadata": {},
   "outputs": [
    {
     "data": {
      "text/plain": [
       "(57, 11)"
      ]
     },
     "execution_count": 14,
     "metadata": {},
     "output_type": "execute_result"
    }
   ],
   "source": [
    "data_Phil.shape"
   ]
  },
  {
   "cell_type": "code",
   "execution_count": null,
   "id": "0aa40f38",
   "metadata": {},
   "outputs": [],
   "source": []
  },
  {
   "cell_type": "markdown",
   "id": "e70b01b9",
   "metadata": {},
   "source": [
    "## Combine Your Data\n",
    "\n",
    "Now that you have four clean sets of data, combine all four into one dataframe that represents the entire Northeast region."
   ]
  },
  {
   "cell_type": "code",
   "execution_count": 17,
   "id": "da059f8a",
   "metadata": {},
   "outputs": [
    {
     "data": {
      "text/plain": [
       "(674, 11)"
      ]
     },
     "execution_count": 17,
     "metadata": {},
     "output_type": "execute_result"
    }
   ],
   "source": [
    "# Combine the four dataframes into one!\n",
    "\n",
    "data_all = pd.concat([data_Balt, data_Bost, data_NY, data_Phil])\n",
    "data_all.shape"
   ]
  },
  {
   "cell_type": "markdown",
   "id": "8590082f",
   "metadata": {},
   "source": [
    "## Answer Some Questions\n",
    "\n",
    "Use `groupby()` and `agg()` to answer the following two questions:\n",
    "\n",
    "1. What is the mean low and high prices for each type of unit of sale in the Northeast region? In the last lesson, we learned that a unit of sale could be something like a bin or individually. \n",
    "2. What is the average number of pumpkins for each variety that came into terminal markets for the year by region? Pumpkin varieties include Howden and Fairytale pumpkins."
   ]
  },
  {
   "cell_type": "code",
   "execution_count": 18,
   "id": "c839639a",
   "metadata": {},
   "outputs": [
    {
     "data": {
      "text/html": [
       "<div>\n",
       "<style scoped>\n",
       "    .dataframe tbody tr th:only-of-type {\n",
       "        vertical-align: middle;\n",
       "    }\n",
       "\n",
       "    .dataframe tbody tr th {\n",
       "        vertical-align: top;\n",
       "    }\n",
       "\n",
       "    .dataframe thead tr th {\n",
       "        text-align: left;\n",
       "    }\n",
       "\n",
       "    .dataframe thead tr:last-of-type th {\n",
       "        text-align: right;\n",
       "    }\n",
       "</style>\n",
       "<table border=\"1\" class=\"dataframe\">\n",
       "  <thead>\n",
       "    <tr>\n",
       "      <th></th>\n",
       "      <th>Low Price</th>\n",
       "    </tr>\n",
       "    <tr>\n",
       "      <th></th>\n",
       "      <th>mean</th>\n",
       "    </tr>\n",
       "    <tr>\n",
       "      <th>Package</th>\n",
       "      <th></th>\n",
       "    </tr>\n",
       "  </thead>\n",
       "  <tbody>\n",
       "    <tr>\n",
       "      <th>1 1/9 bushel cartons</th>\n",
       "      <td>15.875000</td>\n",
       "    </tr>\n",
       "    <tr>\n",
       "      <th>1 1/9 bushel crates</th>\n",
       "      <td>16.058824</td>\n",
       "    </tr>\n",
       "    <tr>\n",
       "      <th>1/2 bushel cartons</th>\n",
       "      <td>16.030928</td>\n",
       "    </tr>\n",
       "    <tr>\n",
       "      <th>24 inch bins</th>\n",
       "      <td>188.005618</td>\n",
       "    </tr>\n",
       "    <tr>\n",
       "      <th>36 inch bins</th>\n",
       "      <td>170.458861</td>\n",
       "    </tr>\n",
       "    <tr>\n",
       "      <th>50 lb sacks</th>\n",
       "      <td>25.111111</td>\n",
       "    </tr>\n",
       "    <tr>\n",
       "      <th>bushel cartons</th>\n",
       "      <td>20.571429</td>\n",
       "    </tr>\n",
       "    <tr>\n",
       "      <th>each</th>\n",
       "      <td>75.000000</td>\n",
       "    </tr>\n",
       "  </tbody>\n",
       "</table>\n",
       "</div>"
      ],
      "text/plain": [
       "                       Low Price\n",
       "                            mean\n",
       "Package                         \n",
       "1 1/9 bushel cartons   15.875000\n",
       "1 1/9 bushel crates    16.058824\n",
       "1/2 bushel cartons     16.030928\n",
       "24 inch bins          188.005618\n",
       "36 inch bins          170.458861\n",
       "50 lb sacks            25.111111\n",
       "bushel cartons         20.571429\n",
       "each                   75.000000"
      ]
     },
     "execution_count": 18,
     "metadata": {},
     "output_type": "execute_result"
    }
   ],
   "source": [
    "# Put your code here to find the mean low and high prices in the Northeast region for each type of unit of sale.\n",
    "package_group = data_all.groupby('Package')\n",
    "agg_func_dict = {'Low Price': ['mean']}\n",
    "package_group.agg(agg_func_dict)\n"
   ]
  },
  {
   "cell_type": "code",
   "execution_count": 19,
   "id": "5ecd5f6b",
   "metadata": {},
   "outputs": [
    {
     "data": {
      "text/html": [
       "<div>\n",
       "<style scoped>\n",
       "    .dataframe tbody tr th:only-of-type {\n",
       "        vertical-align: middle;\n",
       "    }\n",
       "\n",
       "    .dataframe tbody tr th {\n",
       "        vertical-align: top;\n",
       "    }\n",
       "\n",
       "    .dataframe thead tr th {\n",
       "        text-align: left;\n",
       "    }\n",
       "\n",
       "    .dataframe thead tr:last-of-type th {\n",
       "        text-align: right;\n",
       "    }\n",
       "</style>\n",
       "<table border=\"1\" class=\"dataframe\">\n",
       "  <thead>\n",
       "    <tr>\n",
       "      <th></th>\n",
       "      <th>High Price</th>\n",
       "    </tr>\n",
       "    <tr>\n",
       "      <th></th>\n",
       "      <th>mean</th>\n",
       "    </tr>\n",
       "    <tr>\n",
       "      <th>Package</th>\n",
       "      <th></th>\n",
       "    </tr>\n",
       "  </thead>\n",
       "  <tbody>\n",
       "    <tr>\n",
       "      <th>1 1/9 bushel cartons</th>\n",
       "      <td>16.739583</td>\n",
       "    </tr>\n",
       "    <tr>\n",
       "      <th>1 1/9 bushel crates</th>\n",
       "      <td>16.705882</td>\n",
       "    </tr>\n",
       "    <tr>\n",
       "      <th>1/2 bushel cartons</th>\n",
       "      <td>17.597938</td>\n",
       "    </tr>\n",
       "    <tr>\n",
       "      <th>24 inch bins</th>\n",
       "      <td>202.808989</td>\n",
       "    </tr>\n",
       "    <tr>\n",
       "      <th>36 inch bins</th>\n",
       "      <td>196.550633</td>\n",
       "    </tr>\n",
       "    <tr>\n",
       "      <th>50 lb sacks</th>\n",
       "      <td>25.333333</td>\n",
       "    </tr>\n",
       "    <tr>\n",
       "      <th>bushel cartons</th>\n",
       "      <td>22.857143</td>\n",
       "    </tr>\n",
       "    <tr>\n",
       "      <th>each</th>\n",
       "      <td>80.000000</td>\n",
       "    </tr>\n",
       "  </tbody>\n",
       "</table>\n",
       "</div>"
      ],
      "text/plain": [
       "                      High Price\n",
       "                            mean\n",
       "Package                         \n",
       "1 1/9 bushel cartons   16.739583\n",
       "1 1/9 bushel crates    16.705882\n",
       "1/2 bushel cartons     17.597938\n",
       "24 inch bins          202.808989\n",
       "36 inch bins          196.550633\n",
       "50 lb sacks            25.333333\n",
       "bushel cartons         22.857143\n",
       "each                   80.000000"
      ]
     },
     "execution_count": 19,
     "metadata": {},
     "output_type": "execute_result"
    }
   ],
   "source": [
    "agg_func_dict = {'High Price': ['mean']}\n",
    "package_group.agg(agg_func_dict)"
   ]
  },
  {
   "cell_type": "code",
   "execution_count": null,
   "id": "b4b23352",
   "metadata": {},
   "outputs": [],
   "source": [
    "# Put your code here to find the average number of pumpkins coming into terminal markets of each variety.\n",
    "\n",
    "variety_group = data_all.groupby('Variety')\n"
   ]
  },
  {
   "cell_type": "markdown",
   "id": "a2e5cff4",
   "metadata": {},
   "source": [
    "## Bonus Mission\n",
    "\n",
    "Try answering the same questions for the Midwest (Chicago, Detroit, and St. Louis) or the Southeast (Atlanta, Columbia, and Miami) regions."
   ]
  },
  {
   "cell_type": "code",
   "execution_count": null,
   "id": "1d22b7fd",
   "metadata": {},
   "outputs": [],
   "source": [
    "# Try the bonus mission if you have time!"
   ]
  },
  {
   "cell_type": "code",
   "execution_count": null,
   "id": "09dbc152",
   "metadata": {},
   "outputs": [],
   "source": []
  }
 ],
 "metadata": {
  "kernelspec": {
   "display_name": "Python 3 (ipykernel)",
   "language": "python",
   "name": "python3"
  },
  "language_info": {
   "codemirror_mode": {
    "name": "ipython",
    "version": 3
   },
   "file_extension": ".py",
   "mimetype": "text/x-python",
   "name": "python",
   "nbconvert_exporter": "python",
   "pygments_lexer": "ipython3",
   "version": "3.10.9"
  }
 },
 "nbformat": 4,
 "nbformat_minor": 5
}
